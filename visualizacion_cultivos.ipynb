{
 "cells": [
  {
   "cell_type": "markdown",
   "metadata": {},
   "source": [
    "## Exploración inicial de los datos\n",
    "\n",
    "Vamos a ver que insights podemos sacar de estos datos.\n",
    "\n",
    "Ideas:\n",
    "- Áreas por categorías\n",
    "- Áreas por cultivos\n",
    "- Porcentaje de área destinada a cada cultivo del área de cada isla (quitando superficie agrícola no utilizada)\n",
    "- Área destinada al cultivo por cada isla (quitan superficie agrícola no utilizada)\n",
    "- Cuántos cultivos hay con o sin riego automático\n",
    "- Cuales son los cultivos que más usan riego automático\n",
    "- Cuáles son las técnicas más utilizadas (por tipo de cultivo y en total)\n",
    "- Relación entre áreas agrícolas cultivadas vs áreas agrícolas no cultivadas.\n",
    "- Cultivos + IPC"
   ]
  },
  {
   "cell_type": "markdown",
   "metadata": {},
   "source": [
    "### Área por categoría\n",
    "Podemos ver que cultivos son los que más área sea dedicado a los mismos. "
   ]
  },
  {
   "cell_type": "code",
   "execution_count": null,
   "metadata": {},
   "outputs": [],
   "source": [
    "areas_por_categoria = gdf.groupby('categoria')['area_m2'].sum().reset_index()\n",
    "areas_por_categoria = areas_por_categoria.sort_values('area_m2', ascending=False).head(10)\n",
    "areas_por_categoria"
   ]
  },
  {
   "cell_type": "code",
   "execution_count": null,
   "metadata": {},
   "outputs": [],
   "source": [
    "out = sns.barplot(data=areas_por_categoria, x='categoria', y='area_m2')\n",
    "out.tick_params(axis='x', rotation=90)"
   ]
  },
  {
   "cell_type": "code",
   "execution_count": null,
   "metadata": {},
   "outputs": [],
   "source": [
    "area_por_categoria_cultivable = areas_por_categoria[~areas_por_categoria.isin(categorias_no_cultivo)].dropna()\n",
    "out = sns.barplot(data=area_por_categoria_cultivable, x='categoria', y='area_m2')\n",
    "out.tick_params(axis='x', rotation=90)"
   ]
  },
  {
   "cell_type": "markdown",
   "metadata": {},
   "source": [
    "### Área por agrupación\n",
    "Podemos ver que cultivos son los que más área sea dedicado a los mismos. "
   ]
  },
  {
   "cell_type": "code",
   "execution_count": null,
   "metadata": {},
   "outputs": [],
   "source": [
    "areas_por_agrupación = gdf.groupby('agrupacion')['area_m2'].sum().reset_index().sort_values('area_m2', ascending=False)\n",
    "areas_por_agrupación"
   ]
  },
  {
   "cell_type": "code",
   "execution_count": null,
   "metadata": {},
   "outputs": [],
   "source": [
    "out = sns.barplot(data=areas_por_agrupación, x='agrupacion', y='area_m2')\n",
    "out.tick_params(axis='x', rotation=90)"
   ]
  },
  {
   "cell_type": "code",
   "execution_count": null,
   "metadata": {},
   "outputs": [],
   "source": [
    "area_por_agrupacion_cultivable = areas_por_agrupación[~areas_por_agrupación.isin(categorias_no_cultivo)].dropna()\n",
    "out = sns.barplot(data=area_por_agrupacion_cultivable, x='agrupacion', y='area_m2')\n",
    "out.tick_params(axis='x', rotation=90)"
   ]
  },
  {
   "cell_type": "markdown",
   "metadata": {},
   "source": [
    "### Área por tipo de cultivo\n",
    "Podemos ver que cultivos son los que más área sea dedicado a los mismos. "
   ]
  },
  {
   "cell_type": "code",
   "execution_count": null,
   "metadata": {},
   "outputs": [],
   "source": [
    "areas_por_cultivo = gdf.groupby('cultivo_na')['area_m2'].sum().reset_index().sort_values('area_m2', ascending=False)\n",
    "areas_por_cultivo.sort_values('area_m2', ascending=False).head(10)"
   ]
  },
  {
   "cell_type": "code",
   "execution_count": null,
   "metadata": {},
   "outputs": [],
   "source": [
    "out = sns.barplot(data=areas_por_cultivo.head(10), x='cultivo_na', y='area_m2')\n",
    "out.tick_params(axis='x', rotation=90)"
   ]
  },
  {
   "cell_type": "code",
   "execution_count": null,
   "metadata": {},
   "outputs": [],
   "source": [
    "area_por_cultivo_cultivable = areas_por_cultivo[~areas_por_cultivo.isin(categorias_no_cultivo)].dropna()\n",
    "out = sns.barplot(data=area_por_cultivo_cultivable.head(15), x='cultivo_na', y='area_m2')\n",
    "out.tick_params(axis='x', rotation=90)"
   ]
  },
  {
   "cell_type": "markdown",
   "metadata": {},
   "source": [
    "### Porcentaje dedicado a cada cultivo\n",
    "Para ver el porcentaje dedicado a cada cultivo en total del área disponible"
   ]
  },
  {
   "cell_type": "code",
   "execution_count": null,
   "metadata": {},
   "outputs": [],
   "source": [
    "# Calcular porcentajes\n",
    "area_por_cultivo_cultivable['percentage'] = (area_por_cultivo_cultivable['area_m2'] / area_por_cultivo_cultivable['area_m2'].sum()) * 100\n",
    "\n",
    "# Gráfico de pastel\n",
    "plt.figure(figsize=(10, 8))\n",
    "plt.pie(\n",
    "    area_por_cultivo_cultivable['percentage'].head(10), \n",
    "    labels=area_por_cultivo_cultivable['cultivo_na'].head(10), \n",
    "    autopct='%1.1f%%', \n",
    "    startangle=140, \n",
    "    colors=plt.cm.tab20.colors\n",
    ")\n",
    "plt.title(\"Proporción de Áreas por Cultivo (%)\", fontsize=16)\n",
    "plt.show()"
   ]
  },
  {
   "cell_type": "markdown",
   "metadata": {},
   "source": [
    "### Isla que cultiva más X"
   ]
  },
  {
   "cell_type": "code",
   "execution_count": null,
   "metadata": {},
   "outputs": [],
   "source": [
    "area_por_isla_cultivo = gdf.groupby([\"isla_na\", \"cultivo_na\"], as_index=False)[\"area_m2\"].sum()\n",
    "millo_por_isla = area_por_isla_cultivo[area_por_isla_cultivo.cultivo_na == 'Millo'].sort_values('area_m2', ascending=False)"
   ]
  },
  {
   "cell_type": "code",
   "execution_count": null,
   "metadata": {},
   "outputs": [],
   "source": [
    "out = sns.barplot(data=millo_por_isla, x='isla_na', y='area_m2')\n",
    "out.tick_params(axis='x', rotation=90)"
   ]
  }
 ],
 "metadata": {
  "language_info": {
   "name": "python"
  }
 },
 "nbformat": 4,
 "nbformat_minor": 2
}
